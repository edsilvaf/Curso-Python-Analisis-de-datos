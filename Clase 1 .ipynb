{
 "cells": [
  {
   "cell_type": "markdown",
   "metadata": {},
   "source": [
    "##**Ejercicios Python**\n",
    "\n",
    "**Mail** : damiansilva14@hotmail.com"
   ]
  },
  {
   "cell_type": "markdown",
   "metadata": {},
   "source": [
    "https://docs.python.org/\n",
    "\n",
    "https://docs.scipy.org/doc/numpy/"
   ]
  },
  {
   "cell_type": "markdown",
   "metadata": {},
   "source": [
    "Notas de clase inspiradas en las clases de Lidia Ortiz en la Universidad de Alicante"
   ]
  },
  {
   "cell_type": "code",
   "execution_count": 3,
   "metadata": {},
   "outputs": [],
   "source": [
    "import numpy as np"
   ]
  },
  {
   "cell_type": "markdown",
   "metadata": {},
   "source": [
    "#**Numpy**"
   ]
  },
  {
   "cell_type": "markdown",
   "metadata": {},
   "source": [
    "##**Ejercicio 1**"
   ]
  },
  {
   "cell_type": "markdown",
   "metadata": {},
   "source": [
    "#**Creamos un array de 450 enteros aleatorios entre -10 y 10**"
   ]
  },
  {
   "cell_type": "code",
   "execution_count": 4,
   "metadata": {},
   "outputs": [
    {
     "data": {
      "text/plain": [
       "array([  9,  -8,   0,   7,   8,  -5,   8,  -4,   7,  -4,   7,  -7,  -1,\n",
       "         1,   7,  -6,  -9,  -1,   2,  -5, -10,   6,  -5,  -5,  -2,  -7,\n",
       "         3,   1,  -8,  -6,  -8,  -6,   1,   6,   9,   5,   1,   5,  -8,\n",
       "         1,  -8,  -6, -10,  -6,  -9,  -7,  -5,  -9,   8,   0,  -1,   2,\n",
       "         0,  -5,  -6,  -7,  -6,  -9,   7,   2,  -7,  -6,   8, -10,  -2,\n",
       "        -8,   9,  -1,   5,  -7,  -7,  -3,  -6,  -5,  -1,  -7,  -4,  -1,\n",
       "        -2,  -6,  -2,   1,  -5,  -9,   1,  -6,   0,   0,  -9,  -4,  -8,\n",
       "         2,   9,  -1,  -3,   8,  -2,  -9,   3,   1,  -9,  -2,  -1,   1,\n",
       "        -1,  -6,   1,  -2,   3,  -5,  -6, -10,  -2,  -2,  -3, -10,   2,\n",
       "        -2,  -6,  -8,  -2,  -8,   6,   3,   3,   1,  -4,   8,   1,  -3,\n",
       "         8,  -1,   7, -10,  -2,   5,   1,   7,   2,  -4,  -2,  -1,  -9,\n",
       "         5,  -1,  -9,   3,  -6,   0,  -3, -10,   8,  -9,  -5,  -4,   6,\n",
       "         9,   2,  -1,   0,   3,   8,  -6,   3,   6,  -1,   4,  -7,   5,\n",
       "         3,   5,  -7, -10,  -6,   9,   8,  -4,  -1,   0,  -4,  -7,   8,\n",
       "        -1,   6,   3,  -2,  -9,  -6,   3,  -3,   6,  -6,   1,   3,   1,\n",
       "       -10,   1,   7,  -3,   0,   9,   2,  -5,   4,  -9,   4,  -7,   9,\n",
       "         1,  -2,   7,   0,  -7,   5,   2,  -9,  -5,  -2,   9, -10,  -4,\n",
       "        -1,  -2,   0,  -9,   7,  -9,   3,   6,   0,  -8, -10,  -1,   6,\n",
       "         9,  -7,  -5,  -8,   7,   0,  -3,  -4,  -3,  -2,  -4,   0,  -8,\n",
       "        -9,   5,  -9,  -5,  -9,  -2,  -5,  -8,   5,   2,  -7,   9,   7,\n",
       "        -8,   5,   4,  -6,   7,   9,  -2,   9,   4,  -7,  -7,   6,  -4,\n",
       "         5,   1,   9,   1,   6,   8,   4, -10, -10,  -3,  -2,  -4,  -1,\n",
       "        -7, -10,   1,  -9,   2,   4,  -2,  -2,   2,  -3,  -7,  -8,   9,\n",
       "         9,  -9,   6, -10,  -9,   2,   1,  -3,   5,  -6,  -6,  -4,  -6,\n",
       "        -6,  -7,   0,  -2,   9,   9,   6, -10,  -5,  -9,  -1,  -8,  -6,\n",
       "         4,  -4, -10,   9,   9,   5,   6,   9,  -6,   3,  -9,   4, -10,\n",
       "        -6,   2,   8,  -5,   2,   6,  -2,  -9,   7,   7,   0,  -8,  -4,\n",
       "        -8,  -4,  -8,   3,  -4,   6,   4,   2,  -3,   9,   9,   9,  -1,\n",
       "         4,  -7,   2,   4,  -6,   1,   4,   6,   5,  -7,   0,   6,   5,\n",
       "        -9,   6,   0,   3,  -3,  -4,   4,   2,   2,   3,   2,  -7,  -1,\n",
       "        -8,  -1,   2,  -3,   9,   8,  -3,   2,   1,  -4,   4,   9,  -4,\n",
       "         9,  -4,  -8,  -6,  -9,   5,  -3,  -5,   5,   0,   0,   0, -10,\n",
       "         2,  -7,   8,  -9,   3,  -8,   8,  -1,   9,   3,  -5, -10,  -6,\n",
       "        -3,   2,   1,   2,  -8,   6,   9,  -2,   3,  -6,   9,   4, -10,\n",
       "        -2,   2, -10,  -6,  -8,   1,  -1,  -3])"
      ]
     },
     "execution_count": 4,
     "metadata": {},
     "output_type": "execute_result"
    }
   ],
   "source": [
    "array = np.random.randint(low=-10, high=10, size=450, dtype='l')\n",
    "\n",
    "array"
   ]
  },
  {
   "cell_type": "markdown",
   "metadata": {},
   "source": [
    "**Redimensiónalo como matriz de 5x70 ¿Hay algún problema? Si lo hay, corrígelo.**"
   ]
  },
  {
   "cell_type": "markdown",
   "metadata": {},
   "source": [
    "**Comprobamos qué dimensión tiene nuestro array:**"
   ]
  },
  {
   "cell_type": "code",
   "execution_count": 5,
   "metadata": {},
   "outputs": [
    {
     "data": {
      "text/plain": [
       "(450,)"
      ]
     },
     "execution_count": 5,
     "metadata": {},
     "output_type": "execute_result"
    }
   ],
   "source": [
    "array.shape"
   ]
  },
  {
   "cell_type": "markdown",
   "metadata": {},
   "source": [
    "Redimensionamos:"
   ]
  },
  {
   "cell_type": "code",
   "execution_count": 6,
   "metadata": {},
   "outputs": [
    {
     "ename": "ValueError",
     "evalue": "cannot reshape array of size 450 into shape (5,70)",
     "output_type": "error",
     "traceback": [
      "\u001b[1;31m---------------------------------------------------------------------------\u001b[0m",
      "\u001b[1;31mValueError\u001b[0m                                Traceback (most recent call last)",
      "\u001b[1;32m<ipython-input-6-93c53ed84f18>\u001b[0m in \u001b[0;36m<module>\u001b[1;34m\u001b[0m\n\u001b[1;32m----> 1\u001b[1;33m \u001b[0mmatrix\u001b[0m \u001b[1;33m=\u001b[0m \u001b[0marray\u001b[0m\u001b[1;33m.\u001b[0m\u001b[0mreshape\u001b[0m\u001b[1;33m(\u001b[0m\u001b[1;36m5\u001b[0m\u001b[1;33m,\u001b[0m\u001b[1;36m70\u001b[0m\u001b[1;33m)\u001b[0m\u001b[1;33m\u001b[0m\u001b[0m\n\u001b[0m",
      "\u001b[1;31mValueError\u001b[0m: cannot reshape array of size 450 into shape (5,70)"
     ]
    }
   ],
   "source": [
    "matrix = array.reshape(5,70)"
   ]
  },
  {
   "cell_type": "code",
   "execution_count": 7,
   "metadata": {},
   "outputs": [
    {
     "data": {
      "text/plain": [
       "array([[  9,  -8,   0,   7,   8,  -5,   8,  -4,   7,  -4,   7,  -7,  -1,\n",
       "          1,   7,  -6,  -9,  -1,   2,  -5, -10,   6,  -5,  -5,  -2,  -7,\n",
       "          3,   1,  -8,  -6,  -8,  -6,   1,   6,   9,   5,   1,   5,  -8,\n",
       "          1,  -8,  -6, -10,  -6,  -9,  -7,  -5,  -9,   8,   0,  -1,   2,\n",
       "          0,  -5,  -6,  -7,  -6,  -9,   7,   2,  -7,  -6,   8, -10,  -2,\n",
       "         -8,   9,  -1,   5,  -7,  -7,  -3,  -6,  -5,  -1,  -7,  -4,  -1,\n",
       "         -2,  -6,  -2,   1,  -5,  -9,   1,  -6,   0,   0,  -9,  -4],\n",
       "       [ -8,   2,   9,  -1,  -3,   8,  -2,  -9,   3,   1,  -9,  -2,  -1,\n",
       "          1,  -1,  -6,   1,  -2,   3,  -5,  -6, -10,  -2,  -2,  -3, -10,\n",
       "          2,  -2,  -6,  -8,  -2,  -8,   6,   3,   3,   1,  -4,   8,   1,\n",
       "         -3,   8,  -1,   7, -10,  -2,   5,   1,   7,   2,  -4,  -2,  -1,\n",
       "         -9,   5,  -1,  -9,   3,  -6,   0,  -3, -10,   8,  -9,  -5,  -4,\n",
       "          6,   9,   2,  -1,   0,   3,   8,  -6,   3,   6,  -1,   4,  -7,\n",
       "          5,   3,   5,  -7, -10,  -6,   9,   8,  -4,  -1,   0,  -4],\n",
       "       [ -7,   8,  -1,   6,   3,  -2,  -9,  -6,   3,  -3,   6,  -6,   1,\n",
       "          3,   1, -10,   1,   7,  -3,   0,   9,   2,  -5,   4,  -9,   4,\n",
       "         -7,   9,   1,  -2,   7,   0,  -7,   5,   2,  -9,  -5,  -2,   9,\n",
       "        -10,  -4,  -1,  -2,   0,  -9,   7,  -9,   3,   6,   0,  -8, -10,\n",
       "         -1,   6,   9,  -7,  -5,  -8,   7,   0,  -3,  -4,  -3,  -2,  -4,\n",
       "          0,  -8,  -9,   5,  -9,  -5,  -9,  -2,  -5,  -8,   5,   2,  -7,\n",
       "          9,   7,  -8,   5,   4,  -6,   7,   9,  -2,   9,   4,  -7],\n",
       "       [ -7,   6,  -4,   5,   1,   9,   1,   6,   8,   4, -10, -10,  -3,\n",
       "         -2,  -4,  -1,  -7, -10,   1,  -9,   2,   4,  -2,  -2,   2,  -3,\n",
       "         -7,  -8,   9,   9,  -9,   6, -10,  -9,   2,   1,  -3,   5,  -6,\n",
       "         -6,  -4,  -6,  -6,  -7,   0,  -2,   9,   9,   6, -10,  -5,  -9,\n",
       "         -1,  -8,  -6,   4,  -4, -10,   9,   9,   5,   6,   9,  -6,   3,\n",
       "         -9,   4, -10,  -6,   2,   8,  -5,   2,   6,  -2,  -9,   7,   7,\n",
       "          0,  -8,  -4,  -8,  -4,  -8,   3,  -4,   6,   4,   2,  -3],\n",
       "       [  9,   9,   9,  -1,   4,  -7,   2,   4,  -6,   1,   4,   6,   5,\n",
       "         -7,   0,   6,   5,  -9,   6,   0,   3,  -3,  -4,   4,   2,   2,\n",
       "          3,   2,  -7,  -1,  -8,  -1,   2,  -3,   9,   8,  -3,   2,   1,\n",
       "         -4,   4,   9,  -4,   9,  -4,  -8,  -6,  -9,   5,  -3,  -5,   5,\n",
       "          0,   0,   0, -10,   2,  -7,   8,  -9,   3,  -8,   8,  -1,   9,\n",
       "          3,  -5, -10,  -6,  -3,   2,   1,   2,  -8,   6,   9,  -2,   3,\n",
       "         -6,   9,   4, -10,  -2,   2, -10,  -6,  -8,   1,  -1,  -3]])"
      ]
     },
     "execution_count": 7,
     "metadata": {},
     "output_type": "execute_result"
    }
   ],
   "source": [
    "matrix = array.reshape(5,90)\n",
    "matrix"
   ]
  },
  {
   "cell_type": "code",
   "execution_count": 8,
   "metadata": {},
   "outputs": [
    {
     "data": {
      "text/plain": [
       "(5, 90)"
      ]
     },
     "execution_count": 8,
     "metadata": {},
     "output_type": "execute_result"
    }
   ],
   "source": [
    "matrix.shape"
   ]
  },
  {
   "cell_type": "markdown",
   "metadata": {},
   "source": [
    "**Obtén los números positivos de esa matriz utilizando boolean indexing**"
   ]
  },
  {
   "cell_type": "code",
   "execution_count": 9,
   "metadata": {},
   "outputs": [
    {
     "data": {
      "text/plain": [
       "array([[ True, False, False,  True,  True, False,  True, False,  True,\n",
       "        False,  True, False, False,  True,  True, False, False, False,\n",
       "         True, False, False,  True, False, False, False, False,  True,\n",
       "         True, False, False, False, False,  True,  True,  True,  True,\n",
       "         True,  True, False,  True, False, False, False, False, False,\n",
       "        False, False, False,  True, False, False,  True, False, False,\n",
       "        False, False, False, False,  True,  True, False, False,  True,\n",
       "        False, False, False,  True, False,  True, False, False, False,\n",
       "        False, False, False, False, False, False, False, False, False,\n",
       "         True, False, False,  True, False, False, False, False, False],\n",
       "       [False,  True,  True, False, False,  True, False, False,  True,\n",
       "         True, False, False, False,  True, False, False,  True, False,\n",
       "         True, False, False, False, False, False, False, False,  True,\n",
       "        False, False, False, False, False,  True,  True,  True,  True,\n",
       "        False,  True,  True, False,  True, False,  True, False, False,\n",
       "         True,  True,  True,  True, False, False, False, False,  True,\n",
       "        False, False,  True, False, False, False, False,  True, False,\n",
       "        False, False,  True,  True,  True, False, False,  True,  True,\n",
       "        False,  True,  True, False,  True, False,  True,  True,  True,\n",
       "        False, False, False,  True,  True, False, False, False, False],\n",
       "       [False,  True, False,  True,  True, False, False, False,  True,\n",
       "        False,  True, False,  True,  True,  True, False,  True,  True,\n",
       "        False, False,  True,  True, False,  True, False,  True, False,\n",
       "         True,  True, False,  True, False, False,  True,  True, False,\n",
       "        False, False,  True, False, False, False, False, False, False,\n",
       "         True, False,  True,  True, False, False, False, False,  True,\n",
       "         True, False, False, False,  True, False, False, False, False,\n",
       "        False, False, False, False, False,  True, False, False, False,\n",
       "        False, False, False,  True,  True, False,  True,  True, False,\n",
       "         True,  True, False,  True,  True, False,  True,  True, False],\n",
       "       [False,  True, False,  True,  True,  True,  True,  True,  True,\n",
       "         True, False, False, False, False, False, False, False, False,\n",
       "         True, False,  True,  True, False, False,  True, False, False,\n",
       "        False,  True,  True, False,  True, False, False,  True,  True,\n",
       "        False,  True, False, False, False, False, False, False, False,\n",
       "        False,  True,  True,  True, False, False, False, False, False,\n",
       "        False,  True, False, False,  True,  True,  True,  True,  True,\n",
       "        False,  True, False,  True, False, False,  True,  True, False,\n",
       "         True,  True, False, False,  True,  True, False, False, False,\n",
       "        False, False, False,  True, False,  True,  True,  True, False],\n",
       "       [ True,  True,  True, False,  True, False,  True,  True, False,\n",
       "         True,  True,  True,  True, False, False,  True,  True, False,\n",
       "         True, False,  True, False, False,  True,  True,  True,  True,\n",
       "         True, False, False, False, False,  True, False,  True,  True,\n",
       "        False,  True,  True, False,  True,  True, False,  True, False,\n",
       "        False, False, False,  True, False, False,  True, False, False,\n",
       "        False, False,  True, False,  True, False,  True, False,  True,\n",
       "        False,  True,  True, False, False, False, False,  True,  True,\n",
       "         True, False,  True,  True, False,  True, False,  True,  True,\n",
       "        False, False,  True, False, False, False,  True, False, False]])"
      ]
     },
     "execution_count": 9,
     "metadata": {},
     "output_type": "execute_result"
    }
   ],
   "source": [
    "matrix>0"
   ]
  },
  {
   "cell_type": "code",
   "execution_count": 10,
   "metadata": {},
   "outputs": [
    {
     "data": {
      "text/plain": [
       "array([9, 7, 8, 8, 7, 7, 1, 7, 2, 6, 3, 1, 1, 6, 9, 5, 1, 5, 1, 8, 2, 7,\n",
       "       2, 8, 9, 5, 1, 1, 2, 9, 8, 3, 1, 1, 1, 3, 2, 6, 3, 3, 1, 8, 1, 8,\n",
       "       7, 5, 1, 7, 2, 5, 3, 8, 6, 9, 2, 3, 8, 3, 6, 4, 5, 3, 5, 9, 8, 8,\n",
       "       6, 3, 3, 6, 1, 3, 1, 1, 7, 9, 2, 4, 4, 9, 1, 7, 5, 2, 9, 7, 3, 6,\n",
       "       6, 9, 7, 5, 5, 2, 9, 7, 5, 4, 7, 9, 9, 4, 6, 5, 1, 9, 1, 6, 8, 4,\n",
       "       1, 2, 4, 2, 9, 9, 6, 2, 1, 5, 9, 9, 6, 4, 9, 9, 5, 6, 9, 3, 4, 2,\n",
       "       8, 2, 6, 7, 7, 3, 6, 4, 2, 9, 9, 9, 4, 2, 4, 1, 4, 6, 5, 6, 5, 6,\n",
       "       3, 4, 2, 2, 3, 2, 2, 9, 8, 2, 1, 4, 9, 9, 5, 5, 2, 8, 3, 8, 9, 3,\n",
       "       2, 1, 2, 6, 9, 3, 9, 4, 2, 1])"
      ]
     },
     "execution_count": 10,
     "metadata": {},
     "output_type": "execute_result"
    }
   ],
   "source": [
    "matrix[matrix>0]"
   ]
  },
  {
   "cell_type": "markdown",
   "metadata": {},
   "source": [
    "**Obtén con una función los datos no duplicados**"
   ]
  },
  {
   "cell_type": "markdown",
   "metadata": {},
   "source": [
    "comando \"set\": a partir de una lista, nos devuelve un conjunto de datos no duplicados."
   ]
  },
  {
   "cell_type": "code",
   "execution_count": 11,
   "metadata": {},
   "outputs": [
    {
     "data": {
      "text/plain": [
       "list"
      ]
     },
     "execution_count": 11,
     "metadata": {},
     "output_type": "execute_result"
    }
   ],
   "source": [
    "# Ejemplo de set\n",
    "L = [1,1,2]\n",
    "type(L)"
   ]
  },
  {
   "cell_type": "code",
   "execution_count": 12,
   "metadata": {},
   "outputs": [
    {
     "data": {
      "text/plain": [
       "{1, 2}"
      ]
     },
     "execution_count": 12,
     "metadata": {},
     "output_type": "execute_result"
    }
   ],
   "source": [
    "set(L)"
   ]
  },
  {
   "cell_type": "code",
   "execution_count": 13,
   "metadata": {},
   "outputs": [
    {
     "data": {
      "text/plain": [
       "[1, 2]"
      ]
     },
     "execution_count": 13,
     "metadata": {},
     "output_type": "execute_result"
    }
   ],
   "source": [
    "# transformación de nuevo a lista\n",
    "L = list(set(L))\n",
    "L"
   ]
  },
  {
   "cell_type": "markdown",
   "metadata": {},
   "source": [
    "Desglosado:"
   ]
  },
  {
   "cell_type": "code",
   "execution_count": 14,
   "metadata": {},
   "outputs": [
    {
     "data": {
      "text/plain": [
       "{-10, -9, -8, -7, -6, -5, -4, -3, -2, -1, 0, 1, 2, 3, 4, 5, 6, 7, 8, 9}"
      ]
     },
     "execution_count": 14,
     "metadata": {},
     "output_type": "execute_result"
    }
   ],
   "source": [
    "# array -> lista -> set\n",
    "array = list(array)\n",
    "array = set(array)\n",
    "\n",
    "array"
   ]
  },
  {
   "cell_type": "code",
   "execution_count": 15,
   "metadata": {},
   "outputs": [
    {
     "data": {
      "text/plain": [
       "array([  0,   1,   2,   3,   4,   5,   6,   7,   8,   9, -10,  -9,  -8,\n",
       "        -7,  -6,  -5,  -4,  -3,  -2,  -1])"
      ]
     },
     "execution_count": 15,
     "metadata": {},
     "output_type": "execute_result"
    }
   ],
   "source": [
    "# set -> lista -> array\n",
    "array = list(array)\n",
    "array = np.array(array)\n",
    "\n",
    "array"
   ]
  },
  {
   "cell_type": "markdown",
   "metadata": {},
   "source": [
    "En una línea de código:"
   ]
  },
  {
   "cell_type": "code",
   "execution_count": 16,
   "metadata": {},
   "outputs": [
    {
     "data": {
      "text/plain": [
       "array([  0,   1,   2,   3,   4,   5,   6,   7,   8,   9, -10,  -9,  -8,\n",
       "        -7,  -6,  -5,  -4,  -3,  -2,  -1])"
      ]
     },
     "execution_count": 16,
     "metadata": {},
     "output_type": "execute_result"
    }
   ],
   "source": [
    "no_duplicados = np.array(list(set(array)))\n",
    "no_duplicados"
   ]
  },
  {
   "cell_type": "markdown",
   "metadata": {},
   "source": [
    "**Sobre los datos no duplicados, obtener la media y los cuartiles.**"
   ]
  },
  {
   "cell_type": "code",
   "execution_count": 17,
   "metadata": {},
   "outputs": [
    {
     "data": {
      "text/plain": [
       "-0.5"
      ]
     },
     "execution_count": 17,
     "metadata": {},
     "output_type": "execute_result"
    }
   ],
   "source": [
    "# utilizamos la función media\n",
    "np.mean(no_duplicados)"
   ]
  },
  {
   "cell_type": "code",
   "execution_count": 18,
   "metadata": {},
   "outputs": [
    {
     "data": {
      "text/plain": [
       "-5.25"
      ]
     },
     "execution_count": 18,
     "metadata": {},
     "output_type": "execute_result"
    }
   ],
   "source": [
    "# percentiles\n",
    "np.percentile(no_duplicados, 25)"
   ]
  },
  {
   "cell_type": "markdown",
   "metadata": {},
   "source": [
    "**Para dicho array de elementos no duplicados, sumarle a cada elemento una unidad.**"
   ]
  },
  {
   "cell_type": "code",
   "execution_count": 19,
   "metadata": {},
   "outputs": [],
   "source": [
    "array = array + 1"
   ]
  },
  {
   "cell_type": "markdown",
   "metadata": {},
   "source": [
    "**Dado este array x = np.array([-5,6,-7,9]), crea otro array en valor absoluto**"
   ]
  },
  {
   "cell_type": "code",
   "execution_count": 20,
   "metadata": {},
   "outputs": [
    {
     "name": "stdout",
     "output_type": "stream",
     "text": [
      "[5 6 7 9]\n"
     ]
    }
   ],
   "source": [
    "x = np.array([-5,6,-7,9])\n",
    "print(np.absolute(x)) #Abs"
   ]
  },
  {
   "cell_type": "markdown",
   "metadata": {},
   "source": [
    "**Dado este array x = np.array([-5,6,-7,9]), transformalo en una matriz 2x2 y calcula el máximo y el mínimo de cada fila y columna.**"
   ]
  },
  {
   "cell_type": "code",
   "execution_count": 21,
   "metadata": {},
   "outputs": [
    {
     "name": "stdout",
     "output_type": "stream",
     "text": [
      "[6 9]\n",
      "[-5  9]\n"
     ]
    }
   ],
   "source": [
    "x = np.array([-5,6,-7,9])\n",
    "x = x.reshape(2,2)\n",
    "\n",
    "print(x.max(axis=1)) #Máximo de cada fila\n",
    "print(x.max(axis=0))"
   ]
  },
  {
   "cell_type": "markdown",
   "metadata": {},
   "source": [
    "**Crear una matriz diagonal**"
   ]
  },
  {
   "cell_type": "code",
   "execution_count": 22,
   "metadata": {},
   "outputs": [
    {
     "data": {
      "text/plain": [
       "array([[0, 0, 0],\n",
       "       [0, 1, 0],\n",
       "       [0, 0, 2]])"
      ]
     },
     "execution_count": 22,
     "metadata": {},
     "output_type": "execute_result"
    }
   ],
   "source": [
    "a = np.diag(np.arange(3))\n",
    "a"
   ]
  },
  {
   "cell_type": "markdown",
   "metadata": {},
   "source": [
    "**Crear una matriz de 0 con rango 3x3**"
   ]
  },
  {
   "cell_type": "code",
   "execution_count": 23,
   "metadata": {},
   "outputs": [
    {
     "data": {
      "text/plain": [
       "array([[0., 0., 0., 0., 0.],\n",
       "       [0., 0., 0., 0., 0.],\n",
       "       [0., 0., 0., 0., 0.]])"
      ]
     },
     "execution_count": 23,
     "metadata": {},
     "output_type": "execute_result"
    }
   ],
   "source": [
    "np.zeros((3,5),dtype=float)"
   ]
  },
  {
   "cell_type": "markdown",
   "metadata": {},
   "source": [
    "##**Ejercicio 2**"
   ]
  },
  {
   "cell_type": "markdown",
   "metadata": {},
   "source": [
    "**Crea dos arrays de 20000 elementos con números aleatorios de distribuciones diferentes, pero en un rango de valores similar**"
   ]
  },
  {
   "cell_type": "code",
   "execution_count": 24,
   "metadata": {},
   "outputs": [],
   "source": [
    "a1 = np.random.gamma(10,0.5,20000)\n",
    "a2 = np.random.normal(4.5,0.5,20000)"
   ]
  },
  {
   "cell_type": "markdown",
   "metadata": {},
   "source": [
    "**Calcular la media y la varianza de las distribuciones**"
   ]
  },
  {
   "cell_type": "code",
   "execution_count": 25,
   "metadata": {},
   "outputs": [
    {
     "name": "stdout",
     "output_type": "stream",
     "text": [
      "2.480489361271385 0.2532887809920666\n"
     ]
    }
   ],
   "source": [
    "print(a1.var(),a2.var())"
   ]
  },
  {
   "cell_type": "markdown",
   "metadata": {},
   "source": [
    "**Dibuja sus histogramas y compáralos.**"
   ]
  },
  {
   "cell_type": "code",
   "execution_count": 26,
   "metadata": {},
   "outputs": [
    {
     "data": {
      "image/png": "[encoded data removed]",
      "text/plain": [
       "<Figure size 432x288 with 1 Axes>"
      ]
     },
     "metadata": {
      "needs_background": "light"
     },
     "output_type": "display_data"
    }
   ],
   "source": [
    "import matplotlib.pyplot as plt\n",
    "import scipy.stats as stats\n",
    "%matplotlib inline \n",
    "plt.hist(a1,bins=200)\n",
    "plt.hist(a2,bins=200)\n",
    "plt.show()"
   ]
  },
  {
   "cell_type": "markdown",
   "metadata": {},
   "source": [
    "**Busca en scypy.stats una función para hacer una comprobación (mediante un t-test) de si la media de los elementos en los dos arrays es diferente**"
   ]
  },
  {
   "cell_type": "markdown",
   "metadata": {},
   "source": [
    "**Documentación: https://docs.scipy.org/doc/scipy/reference/stats.html**"
   ]
  },
  {
   "cell_type": "code",
   "execution_count": 27,
   "metadata": {},
   "outputs": [
    {
     "data": {
      "text/plain": [
       "Ttest_indResult(statistic=41.663387234158776, pvalue=0.0)"
      ]
     },
     "execution_count": 27,
     "metadata": {},
     "output_type": "execute_result"
    }
   ],
   "source": [
    "test = stats.ttest_ind(a1,a2)\n",
    "test"
   ]
  },
  {
   "cell_type": "markdown",
   "metadata": {},
   "source": [
    "##**Ejercicio 3**"
   ]
  },
  {
   "cell_type": "markdown",
   "metadata": {},
   "source": [
    "**Si no encontrásemos la distribución en las bibliotecas de ScyPy pero la conocemos (\"sabemos la fórmula\"), siempre podemos generar los datos aleatorios generando un array con los datos en el rango en que está definida, y después tomando aleatoriamente un número de elementos de allí (\"con reemplazo\"). Vamos a pensar si tenemos esta función: f(t) definida por: f(t) = 2t/(1+t^2)^2 con t>0.**"
   ]
  },
  {
   "cell_type": "code",
   "execution_count": 28,
   "metadata": {},
   "outputs": [
    {
     "data": {
      "text/plain": [
       "[<matplotlib.lines.Line2D at 0x872ca10>]"
      ]
     },
     "execution_count": 28,
     "metadata": {},
     "output_type": "execute_result"
    },
    {
     "data": {
      "image/png": "[encoded data removed]",
      "text/plain": [
       "<Figure size 432x288 with 1 Axes>"
      ]
     },
     "metadata": {
      "needs_background": "light"
     },
     "output_type": "display_data"
    }
   ],
   "source": [
    "x = np.linspace(0,10,100)\n",
    "y = (2*x)/(1+x**2)**2\n",
    "plt.plot(x,y)"
   ]
  },
  {
   "cell_type": "code",
   "execution_count": null,
   "metadata": {},
   "outputs": [],
   "source": []
  }
 ],
 "metadata": {
  "celltoolbar": "Raw Cell Format",
  "kernelspec": {
   "display_name": "Python 3",
   "language": "python",
   "name": "python3"
  },
  "language_info": {
   "codemirror_mode": {
    "name": "ipython",
    "version": 3
   },
   "file_extension": ".py",
   "mimetype": "text/x-python",
   "name": "python",
   "nbconvert_exporter": "python",
   "pygments_lexer": "ipython3",
   "version": "3.7.0"
  }
 },
 "nbformat": 4,
 "nbformat_minor": 2
}
