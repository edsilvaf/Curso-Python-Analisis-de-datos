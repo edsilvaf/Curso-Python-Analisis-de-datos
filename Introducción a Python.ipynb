{
 "cells": [
  {
   "cell_type": "markdown",
   "metadata": {},
   "source": [
    "# Introducción a Python"
   ]
  },
  {
   "cell_type": "markdown",
   "metadata": {},
   "source": [
    "Python es un lenguaje interpretado: a diferencia de los lenguajes compilados (por ejemplo: Visual Basic), no es necesario traducir todo el código a lenguaje binario (es decir, 0s y 1s) antes de ser ejecutado, sino que se traduce a medida que se ejecuta. Para poder ejecutar el código escrito en Python es necesario pasar las instrucciones a un intérprete.\n",
    "\n",
    "Python cuenta con entornos interactivos que nos permiten ejecutar porciones o bloques de código y visualizar su resultado sin necesidad de correr un programa más extenso.\n",
    "En este curso nos valdremos de las plataformas $Jupyter$ $Notebook$ y $Google$ $Colaboratory$\n",
    "\n",
    "Mail para consultas: damiansilva14@hotmail.com"
   ]
  },
  {
   "cell_type": "markdown",
   "metadata": {},
   "source": [
    "### La función ```print( )```\n",
    "Para ver los valores que toma una expresión o alguna variable, vamos a utilizar la función print()."
   ]
  },
  {
   "cell_type": "code",
   "execution_count": 12,
   "metadata": {},
   "outputs": [
    {
     "name": "stdout",
     "output_type": "stream",
     "text": [
      "Hola Mundo!\n"
     ]
    }
   ],
   "source": [
    "print(\"Hola Mundo!\")\n"
   ]
  },
  {
   "cell_type": "markdown",
   "metadata": {},
   "source": [
    "Como se puede ver en esta ejecución, el resultado del código aparece inmediatamente bajo la celda donde se escriben las instrucciones."
   ]
  },
  {
   "cell_type": "markdown",
   "metadata": {},
   "source": [
    "# Variables numéricas    \n",
    "A continuación, se presentan los distintos tipos de datos númericos y algunas operaciones matemáticas sencillas a modo de ejemplo."
   ]
  },
  {
   "cell_type": "markdown",
   "metadata": {},
   "source": [
    "## Nota:\n",
    "La función type() nos permite conocer el tipo de dato de un objeto particular."
   ]
  },
  {
   "cell_type": "code",
   "execution_count": 2,
   "metadata": {},
   "outputs": [
    {
     "name": "stdout",
     "output_type": "stream",
     "text": [
      "El número 3 es: <class 'int'>\n",
      "El número 3.14 es: <class 'float'>\n",
      "El número 3+2j es: <class 'complex'>\n"
     ]
    }
   ],
   "source": [
    "print('El número 3 es:', type(3)) # int por integer, número entero\n",
    "print('El número 3.14 es:', type(3.14)) # float, número con decimales\n",
    "print('El número 3+2j es:', type(complex(3+2j))) # complex, número complejo"
   ]
  },
  {
   "cell_type": "markdown",
   "metadata": {},
   "source": [
    "Hagamos algunas operaciones aritméticas sencillas:\n",
    "\n"
   ]
  },
  {
   "cell_type": "code",
   "execution_count": 3,
   "metadata": {},
   "outputs": [
    {
     "name": "stdout",
     "output_type": "stream",
     "text": [
      "100\n"
     ]
    }
   ],
   "source": [
    "# suma\n",
    "print(45 + 55)"
   ]
  },
  {
   "cell_type": "code",
   "execution_count": 4,
   "metadata": {},
   "outputs": [
    {
     "name": "stdout",
     "output_type": "stream",
     "text": [
      "-50\n"
     ]
    }
   ],
   "source": [
    "# resta\n",
    "print(50 - 100)"
   ]
  },
  {
   "cell_type": "code",
   "execution_count": 5,
   "metadata": {},
   "outputs": [
    {
     "name": "stdout",
     "output_type": "stream",
     "text": [
      "0.5\n"
     ]
    }
   ],
   "source": [
    "# división\n",
    "print(6/12)"
   ]
  },
  {
   "cell_type": "code",
   "execution_count": 6,
   "metadata": {},
   "outputs": [
    {
     "name": "stdout",
     "output_type": "stream",
     "text": [
      "0\n"
     ]
    }
   ],
   "source": [
    "# floor division, no contempla los decimales\n",
    "print(6//12)"
   ]
  },
  {
   "cell_type": "code",
   "execution_count": 7,
   "metadata": {},
   "outputs": [
    {
     "name": "stdout",
     "output_type": "stream",
     "text": [
      "15\n"
     ]
    }
   ],
   "source": [
    "# multiplicación\n",
    "print(3 * 5)"
   ]
  },
  {
   "cell_type": "code",
   "execution_count": 8,
   "metadata": {},
   "outputs": [
    {
     "name": "stdout",
     "output_type": "stream",
     "text": [
      "4294967296\n"
     ]
    }
   ],
   "source": [
    "# potenciación\n",
    "print(2 ** 32)"
   ]
  },
  {
   "cell_type": "markdown",
   "metadata": {},
   "source": [
    "Nota:\n",
    "* *Podemos ver que la primera línea del primer ejemplo...*"
   ]
  },
  {
   "cell_type": "code",
   "execution_count": 9,
   "metadata": {},
   "outputs": [],
   "source": [
    "# suma"
   ]
  },
  {
   "cell_type": "markdown",
   "metadata": {},
   "source": [
    "* *...es un comentario.*"
   ]
  },
  {
   "cell_type": "markdown",
   "metadata": {},
   "source": [
    "* *Los comentarios no son tomados en cuenta como una instrucción. Esto quiere decir que el intérprete de Python no los ejecuta, por lo que sólo tienen utilidad para las personas que ven las instrucciones. Los comentarios son fundamentales cuando escribimos código, ya que constituyen una excelente manera de organizar nuestro trabajo. Al mismo tiempo, cuando programamos de forma grupal o colaborativa, los comentarios sirven como una guía que facilita la lectura del código, y permiten que cualquier persona tenga una primera referencia de qué se está haciendo en cada paso.*"
   ]
  },
  {
   "cell_type": "markdown",
   "metadata": {},
   "source": [
    "* *Para escribir un comentario se debe anteponer el símbolo numeral (#) al texto. Dentro de una línea de código, todo lo que esté escrito luego del numeral no será ejecutado. Los comentarios pueden escribirse en cualquier parte de una línea y duran hasta el próximo salto de línea. *"
   ]
  },
  {
   "cell_type": "markdown",
   "metadata": {},
   "source": [
    "# Variables"
   ]
  },
  {
   "cell_type": "markdown",
   "metadata": {},
   "source": [
    "Una variable es un espacio de memoria que podemos utilizar para almacenar valores. Si queremos utilizar una variable, lo primero que debemos hacer es definirla asignándole un valor. A continuación, almacenamos en variables los números 1, 2, 3.14 y 3+2j:"
   ]
  },
  {
   "cell_type": "code",
   "execution_count": 11,
   "metadata": {},
   "outputs": [
    {
     "name": "stdout",
     "output_type": "stream",
     "text": [
      "1\n"
     ]
    }
   ],
   "source": [
    "uno = 1\n",
    "print(uno)"
   ]
  },
  {
   "cell_type": "code",
   "execution_count": 12,
   "metadata": {},
   "outputs": [
    {
     "name": "stdout",
     "output_type": "stream",
     "text": [
      "2\n"
     ]
    }
   ],
   "source": [
    "dos = 2\n",
    "print(dos)"
   ]
  },
  {
   "cell_type": "code",
   "execution_count": 13,
   "metadata": {},
   "outputs": [
    {
     "name": "stdout",
     "output_type": "stream",
     "text": [
      "3.14\n"
     ]
    }
   ],
   "source": [
    "pi = 3.14\n",
    "print(pi)"
   ]
  },
  {
   "cell_type": "code",
   "execution_count": 14,
   "metadata": {},
   "outputs": [
    {
     "name": "stdout",
     "output_type": "stream",
     "text": [
      "3.14\n"
     ]
    }
   ],
   "source": [
    "pi = 3.14\n",
    "print(pi)"
   ]
  },
  {
   "cell_type": "code",
   "execution_count": 15,
   "metadata": {},
   "outputs": [
    {
     "name": "stdout",
     "output_type": "stream",
     "text": [
      "7\n"
     ]
    }
   ],
   "source": [
    "uno = 3\n",
    "dos = 4\n",
    "print(uno + dos)"
   ]
  },
  {
   "cell_type": "markdown",
   "metadata": {},
   "source": [
    "Hacemos algunas operaciones con las variables que definimos:"
   ]
  },
  {
   "cell_type": "code",
   "execution_count": 16,
   "metadata": {},
   "outputs": [
    {
     "data": {
      "text/plain": [
       "7"
      ]
     },
     "execution_count": 16,
     "metadata": {},
     "output_type": "execute_result"
    }
   ],
   "source": [
    "uno + dos # sumaz"
   ]
  },
  {
   "cell_type": "code",
   "execution_count": 17,
   "metadata": {},
   "outputs": [
    {
     "data": {
      "text/plain": [
       "1"
      ]
     },
     "execution_count": 17,
     "metadata": {},
     "output_type": "execute_result"
    }
   ],
   "source": [
    "dos - uno # resta"
   ]
  },
  {
   "cell_type": "code",
   "execution_count": 18,
   "metadata": {},
   "outputs": [
    {
     "data": {
      "text/plain": [
       "12.56"
      ]
     },
     "execution_count": 18,
     "metadata": {},
     "output_type": "execute_result"
    }
   ],
   "source": [
    "pi * dos # multiplicación"
   ]
  },
  {
   "cell_type": "code",
   "execution_count": 19,
   "metadata": {},
   "outputs": [
    {
     "data": {
      "text/plain": [
       "1.0466666666666666"
      ]
     },
     "execution_count": 19,
     "metadata": {},
     "output_type": "execute_result"
    }
   ],
   "source": [
    "pi / uno # división"
   ]
  },
  {
   "cell_type": "code",
   "execution_count": 20,
   "metadata": {},
   "outputs": [
    {
     "data": {
      "text/plain": [
       "1.0"
      ]
     },
     "execution_count": 20,
     "metadata": {},
     "output_type": "execute_result"
    }
   ],
   "source": [
    "pi // uno # f]loor division, no contempla los decimales"
   ]
  },
  {
   "cell_type": "code",
   "execution_count": 21,
   "metadata": {},
   "outputs": [
    {
     "data": {
      "text/plain": [
       "256"
      ]
     },
     "execution_count": 21,
     "metadata": {},
     "output_type": "execute_result"
    }
   ],
   "source": [
    "dos ** dos # potenciación"
   ]
  },
  {
   "cell_type": "markdown",
   "metadata": {},
   "source": [
    "También podemos almacenar los resultados en variables nuevas:"
   ]
  },
  {
   "cell_type": "code",
   "execution_count": 23,
   "metadata": {},
   "outputs": [
    {
     "name": "stdout",
     "output_type": "stream",
     "text": [
      "3\n"
     ]
    }
   ],
   "source": [
    "uno = 1\n",
    "dos = 2\n",
    "tres = uno + dos\n",
    "print(tres)"
   ]
  },
  {
   "cell_type": "code",
   "execution_count": 24,
   "metadata": {},
   "outputs": [
    {
     "name": "stdout",
     "output_type": "stream",
     "text": [
      "8\n"
     ]
    }
   ],
   "source": [
    "ocho = dos ** tres\n",
    "print(ocho)"
   ]
  },
  {
   "cell_type": "markdown",
   "metadata": {},
   "source": [
    "## Ejercicio 1\n",
    "Almacene en dos variables llamadas a y b dos números cualesquiera. Luego, calcule el producto de a por b y la potencia de a a la b. Guarde los resultados en variables nuevas e imprímalos."
   ]
  },
  {
   "cell_type": "code",
   "execution_count": 25,
   "metadata": {},
   "outputs": [
    {
     "name": "stdout",
     "output_type": "stream",
     "text": [
      "42\n",
      "2744\n"
     ]
    }
   ],
   "source": [
    "a = 14\n",
    "b = 3\n",
    "print(a * b)\n",
    "print(a ** b)\n"
   ]
  },
  {
   "cell_type": "markdown",
   "metadata": {},
   "source": [
    "# Variables string"
   ]
  },
  {
   "cell_type": "markdown",
   "metadata": {},
   "source": [
    "El texto en Python es considerado un tipo de dato específico llamado string (cadena). Se lo llama de esta forma porque consiste en un conjunto de caracteres (letras, números, símbolos, etc.) “encadenados”. Se definen entre comillas, dobles (\" \") o simples (' ')."
   ]
  },
  {
   "cell_type": "markdown",
   "metadata": {},
   "source": [
    "Generamos un string que contenga el saludo \"¡Hola, Facultad!\""
   ]
  },
  {
   "cell_type": "code",
   "execution_count": 26,
   "metadata": {},
   "outputs": [
    {
     "name": "stdout",
     "output_type": "stream",
     "text": [
      "¡Hola, Facultad!\n"
     ]
    }
   ],
   "source": [
    "saludo = '¡Hola, Facultad!'\n",
    "print(saludo)"
   ]
  },
  {
   "cell_type": "code",
   "execution_count": 27,
   "metadata": {},
   "outputs": [
    {
     "name": "stdout",
     "output_type": "stream",
     "text": [
      "<class 'str'>\n"
     ]
    }
   ],
   "source": [
    "print(type(saludo)) # str por string"
   ]
  },
  {
   "cell_type": "markdown",
   "metadata": {},
   "source": [
    "Podemos convertir todo el texto a minúsculas con el método lower():"
   ]
  },
  {
   "cell_type": "code",
   "execution_count": 28,
   "metadata": {},
   "outputs": [
    {
     "data": {
      "text/plain": [
       "'¡hola, facultad!'"
      ]
     },
     "execution_count": 28,
     "metadata": {},
     "output_type": "execute_result"
    }
   ],
   "source": [
    "saludo.lower()"
   ]
  },
  {
   "cell_type": "markdown",
   "metadata": {},
   "source": [
    "También a mayúsculas con upper():"
   ]
  },
  {
   "cell_type": "code",
   "execution_count": 29,
   "metadata": {},
   "outputs": [
    {
     "data": {
      "text/plain": [
       "'¡HOLA, FACULTAD!'"
      ]
     },
     "execution_count": 29,
     "metadata": {},
     "output_type": "execute_result"
    }
   ],
   "source": [
    "saludo.upper()"
   ]
  },
  {
   "cell_type": "markdown",
   "metadata": {},
   "source": [
    "Los strings pueden contener cualquier tipo de caracteres, incluidos los números:"
   ]
  },
  {
   "cell_type": "code",
   "execution_count": 30,
   "metadata": {},
   "outputs": [
    {
     "name": "stdout",
     "output_type": "stream",
     "text": [
      "4\n",
      "<class 'str'>\n"
     ]
    }
   ],
   "source": [
    "cuatro = '4'\n",
    "print(cuatro)\n",
    "print(type(cuatro))\n"
   ]
  },
  {
   "cell_type": "code",
   "execution_count": 31,
   "metadata": {},
   "outputs": [
    {
     "name": "stdout",
     "output_type": "stream",
     "text": [
      "5\n",
      "<class 'str'>\n"
     ]
    }
   ],
   "source": [
    "cinco = \"5\"\n",
    "print(cinco)\n",
    "print(type(cinco))"
   ]
  },
  {
   "cell_type": "markdown",
   "metadata": {},
   "source": [
    "Pero cuando un número se almacena como string, no se puede operar matemáticamente con él:"
   ]
  },
  {
   "cell_type": "code",
   "execution_count": 32,
   "metadata": {},
   "outputs": [
    {
     "ename": "TypeError",
     "evalue": "can only concatenate str (not \"int\") to str",
     "output_type": "error",
     "traceback": [
      "\u001b[1;31m---------------------------------------------------------------------------\u001b[0m",
      "\u001b[1;31mTypeError\u001b[0m                                 Traceback (most recent call last)",
      "\u001b[1;32m<ipython-input-32-611dd947d3e9>\u001b[0m in \u001b[0;36m<module>\u001b[1;34m\u001b[0m\n\u001b[1;32m----> 1\u001b[1;33m \u001b[0mcuatro\u001b[0m \u001b[1;33m+\u001b[0m \u001b[1;36m6\u001b[0m \u001b[1;31m# este comando arroja un error\u001b[0m\u001b[1;33m\u001b[0m\u001b[1;33m\u001b[0m\u001b[0m\n\u001b[0m",
      "\u001b[1;31mTypeError\u001b[0m: can only concatenate str (not \"int\") to str"
     ]
    }
   ],
   "source": [
    "cuatro + 6 # este comando arroja un error"
   ]
  },
  {
   "cell_type": "markdown",
   "metadata": {},
   "source": [
    "¿Qué ocurre si \"sumamos\" dos strings?"
   ]
  },
  {
   "cell_type": "code",
   "execution_count": 33,
   "metadata": {},
   "outputs": [
    {
     "data": {
      "text/plain": [
       "'45'"
      ]
     },
     "execution_count": 33,
     "metadata": {},
     "output_type": "execute_result"
    }
   ],
   "source": [
    "cuatro + cinco # esta operación concatena los textos"
   ]
  },
  {
   "cell_type": "code",
   "execution_count": 34,
   "metadata": {},
   "outputs": [],
   "source": [
    "cuarenta_y_cinco = float(cuatro + cinco)"
   ]
  },
  {
   "cell_type": "code",
   "execution_count": 35,
   "metadata": {},
   "outputs": [
    {
     "name": "stdout",
     "output_type": "stream",
     "text": [
      "45.0\n"
     ]
    }
   ],
   "source": [
    "print(cuarenta_y_cinco)"
   ]
  },
  {
   "cell_type": "markdown",
   "metadata": {},
   "source": [
    "## Ejercicio 2\n",
    "Guarde en la variable nombre su nombre y en la variable apellido, su apellido. Luego, concatene ambas e imprima su nombre completo (recuerde incluir el espacio)."
   ]
  },
  {
   "cell_type": "code",
   "execution_count": 1,
   "metadata": {},
   "outputs": [
    {
     "name": "stdout",
     "output_type": "stream",
     "text": [
      "Hugo Estrada \"El Mejor\"\n"
     ]
    }
   ],
   "source": [
    "nombre = 'Hugo'\n",
    "apellido = 'Estrada \"El Mejor\"'\n",
    "\n",
    "usuario = nombre + ' ' +  apellido\n",
    "print(usuario)"
   ]
  },
  {
   "cell_type": "markdown",
   "metadata": {},
   "source": [
    "Bonus: imprima su nombre completo en minúsculas y mayúsculas."
   ]
  },
  {
   "cell_type": "code",
   "execution_count": 2,
   "metadata": {},
   "outputs": [
    {
     "data": {
      "text/plain": [
       "'hugo estrada \"el mejor\"'"
      ]
     },
     "execution_count": 2,
     "metadata": {},
     "output_type": "execute_result"
    }
   ],
   "source": [
    "usuario.lower()"
   ]
  },
  {
   "cell_type": "code",
   "execution_count": 3,
   "metadata": {},
   "outputs": [
    {
     "data": {
      "text/plain": [
       "'HUGO ESTRADA \"EL MEJOR\"'"
      ]
     },
     "execution_count": 3,
     "metadata": {},
     "output_type": "execute_result"
    }
   ],
   "source": [
    "usuario.upper()"
   ]
  },
  {
   "cell_type": "markdown",
   "metadata": {},
   "source": [
    "# Estructuras de datos\n",
    "Hasta ahora, vimos cómo trabajar con objetos individuales. Pero a veces resulta práctico poder agrupar objetos, en especial cuando éstos se relacionan entre sí. Para ello, existen estructuras de datos que permiten almacenar múltiples elementos. En esta clase, nos centraremos en tres de ellas: **las listas , las tuplas y los diccionarios**. "
   ]
  },
  {
   "cell_type": "markdown",
   "metadata": {},
   "source": [
    "## Listas"
   ]
  },
  {
   "cell_type": "markdown",
   "metadata": {},
   "source": [
    "Las listas se definen entre corchetes ([]) y cada elemento dentro de unala lista debe ir separado por comas."
   ]
  },
  {
   "cell_type": "code",
   "execution_count": 4,
   "metadata": {},
   "outputs": [
    {
     "name": "stdout",
     "output_type": "stream",
     "text": [
      "['enero', 'febrero', 'marzo', 'abril', 'mayo', 'junio', 'julio', 'agosto', 'septiembre', 'octubre', 'noviembre', 'diciembre']\n"
     ]
    }
   ],
   "source": [
    "meses = ['enero', 'febrero', 'marzo', 'abril', 'mayo', 'junio', \n",
    "         'julio', 'agosto', 'septiembre', 'octubre', 'noviembre', 'diciembre'] # definimos una lista\n",
    "\n",
    "print(meses)"
   ]
  },
  {
   "cell_type": "code",
   "execution_count": 5,
   "metadata": {},
   "outputs": [
    {
     "name": "stdout",
     "output_type": "stream",
     "text": [
      "<class 'list'>\n"
     ]
    }
   ],
   "source": [
    "print(type(meses)) # evaluamos el tipo de dato"
   ]
  },
  {
   "cell_type": "markdown",
   "metadata": {},
   "source": [
    "Podemos conocer la cantidad de elementos contenidos en una lista con la función len():"
   ]
  },
  {
   "cell_type": "code",
   "execution_count": 6,
   "metadata": {},
   "outputs": [
    {
     "data": {
      "text/plain": [
       "12"
      ]
     },
     "execution_count": 6,
     "metadata": {},
     "output_type": "execute_result"
    }
   ],
   "source": [
    "len(meses) # len por length, largo en inglés"
   ]
  },
  {
   "cell_type": "markdown",
   "metadata": {},
   "source": [
    "Cada elemento o valor de una lista se denomina ítem. Las listas están ordenadas: a cada elemento le corresponde un índice (número) que lo identifica y define su posición en la colección. Las listas poseen índices con base cero: al primer elemento de la lista siempre le corresponde el índice 0, al segundo, el 1, y así sucesivamente.\n",
    "\n",
    "Para acceder a un ítem en particular de la lista es necesario conocer su índice. Para ello, utilizamos el método ```index()```:"
   ]
  },
  {
   "cell_type": "code",
   "execution_count": 7,
   "metadata": {},
   "outputs": [
    {
     "data": {
      "text/plain": [
       "3"
      ]
     },
     "execution_count": 7,
     "metadata": {},
     "output_type": "execute_result"
    }
   ],
   "source": [
    "meses.index('abril')"
   ]
  },
  {
   "cell_type": "markdown",
   "metadata": {},
   "source": [
    "Conociendo el índice de un elemento de una lista, podemos acceder a él con la siguiente sintaxis:\n",
    "\n",
    "``lista[índice]``\n",
    "\n",
    "\n",
    "Llamamos **indexing** a este tipo de acceso a un elemento en particular de una lista."
   ]
  },
  {
   "cell_type": "code",
   "execution_count": 9,
   "metadata": {},
   "outputs": [
    {
     "data": {
      "text/plain": [
       "'abril'"
      ]
     },
     "execution_count": 9,
     "metadata": {},
     "output_type": "execute_result"
    }
   ],
   "source": [
    "meses[3]"
   ]
  },
  {
   "cell_type": "markdown",
   "metadata": {},
   "source": [
    "Ya hemos mencionado que las listas poseen índices con base cero. Alternativamente, podemos utilizar los índices en reversa (de atrás hacia adelante):"
   ]
  },
  {
   "cell_type": "code",
   "execution_count": 10,
   "metadata": {},
   "outputs": [
    {
     "data": {
      "text/plain": [
       "'abril'"
      ]
     },
     "execution_count": 10,
     "metadata": {},
     "output_type": "execute_result"
    }
   ],
   "source": [
    "meses[-9]"
   ]
  },
  {
   "cell_type": "markdown",
   "metadata": {},
   "source": [
    "Podemos acceder a múltiples elementos de una lista en simultáneo con la siguiente sintaxis:\n",
    "\n",
    "``lista[inicio:fin:paso]``\n",
    "\n",
    "A este recurso se lo conoce con el nombre de **slicing**."
   ]
  },
  {
   "cell_type": "code",
   "execution_count": 11,
   "metadata": {},
   "outputs": [
    {
     "data": {
      "text/plain": [
       "['julio', 'mayo', 'marzo']"
      ]
     },
     "execution_count": 11,
     "metadata": {},
     "output_type": "execute_result"
    }
   ],
   "source": [
    "meses[6:0:-2] # nótese que el elemento correspondiente al último índice, el mes de julio, no está incluido"
   ]
  },
  {
   "cell_type": "code",
   "execution_count": 12,
   "metadata": {},
   "outputs": [
    {
     "data": {
      "text/plain": [
       "['diciembre',\n",
       " 'noviembre',\n",
       " 'octubre',\n",
       " 'septiembre',\n",
       " 'agosto',\n",
       " 'julio',\n",
       " 'junio',\n",
       " 'mayo',\n",
       " 'abril',\n",
       " 'marzo',\n",
       " 'febrero',\n",
       " 'enero']"
      ]
     },
     "execution_count": 12,
     "metadata": {},
     "output_type": "execute_result"
    }
   ],
   "source": [
    "meses[::-1] # imprimimos la lista de atrás hacia adelante"
   ]
  },
  {
   "cell_type": "markdown",
   "metadata": {},
   "source": [
    "Las listas no son **estáticas**, sino **mutables**: es posible agregar o eliminar elementos, modificar su orden, transformar el contenido de los ítems, etc.\n",
    "\n",
    "Para añadir un nuevo elemento a una lista, utilizamos el método ``append():``\n",
    "\n"
   ]
  },
  {
   "cell_type": "code",
   "execution_count": 19,
   "metadata": {},
   "outputs": [
    {
     "name": "stdout",
     "output_type": "stream",
     "text": [
      "['enero', 'marzo', 'abril', 'mayo', 'junio', 'julio', 'agosto', 'septiembre', 'octubre', 'noviembre', 'diciembre', ['otoño', 'invierno', 'primavera']]\n"
     ]
    }
   ],
   "source": [
    "meses\n",
    "print(meses)"
   ]
  },
  {
   "cell_type": "code",
   "execution_count": 20,
   "metadata": {},
   "outputs": [
    {
     "name": "stdout",
     "output_type": "stream",
     "text": [
      "['enero', 'marzo', 'abril', 'mayo', 'junio', 'julio', 'agosto', 'septiembre', 'octubre', 'noviembre', 'diciembre', ['otoño', 'invierno', 'primavera'], ['otoño', 'invierno', 'primavera']]\n"
     ]
    }
   ],
   "source": [
    "meses.append(['otoño', 'invierno', 'primavera'])\n",
    "print(meses)"
   ]
  },
  {
   "cell_type": "markdown",
   "metadata": {},
   "source": [
    "Si queremos combinar dos listas, podemos usar el método ``extend():``"
   ]
  },
  {
   "cell_type": "markdown",
   "metadata": {},
   "source": [
    "La función ``remove()`` nos permite eliminar elementos:"
   ]
  },
  {
   "cell_type": "code",
   "execution_count": 21,
   "metadata": {},
   "outputs": [
    {
     "ename": "ValueError",
     "evalue": "list.remove(x): x not in list",
     "output_type": "error",
     "traceback": [
      "\u001b[1;31m---------------------------------------------------------------------------\u001b[0m",
      "\u001b[1;31mValueError\u001b[0m                                Traceback (most recent call last)",
      "\u001b[1;32m<ipython-input-21-a17ed80271eb>\u001b[0m in \u001b[0;36m<module>\u001b[1;34m\u001b[0m\n\u001b[1;32m----> 1\u001b[1;33m \u001b[0mmeses\u001b[0m\u001b[1;33m.\u001b[0m\u001b[0mremove\u001b[0m\u001b[1;33m(\u001b[0m\u001b[1;34m'febrero'\u001b[0m\u001b[1;33m)\u001b[0m\u001b[1;33m\u001b[0m\u001b[1;33m\u001b[0m\u001b[0m\n\u001b[0m\u001b[0;32m      2\u001b[0m \u001b[0mprint\u001b[0m\u001b[1;33m(\u001b[0m\u001b[0mmeses\u001b[0m\u001b[1;33m)\u001b[0m\u001b[1;33m\u001b[0m\u001b[1;33m\u001b[0m\u001b[0m\n",
      "\u001b[1;31mValueError\u001b[0m: list.remove(x): x not in list"
     ]
    }
   ],
   "source": [
    "meses.remove('febrero')\n",
    "print(meses)"
   ]
  },
  {
   "cell_type": "markdown",
   "metadata": {},
   "source": [
    "Si queremos insertar un elemento en una posición en particular, usamos ``insert()`` especificando el índice y el valor del elemento a agregar:"
   ]
  },
  {
   "cell_type": "markdown",
   "metadata": {},
   "source": [
    "## Ejercicio 3"
   ]
  },
  {
   "cell_type": "markdown",
   "metadata": {},
   "source": [
    "Defina una lista llamada **top_pelis** que incluya sus tres películas favoritas. Luego, extienda esa lista sumando dos películas más usando algunas de las funciones vistas. Por último, imprima esa lista."
   ]
  },
  {
   "cell_type": "code",
   "execution_count": 26,
   "metadata": {},
   "outputs": [
    {
     "data": {
      "text/plain": [
       "['star wars', 'harry pottter', 'thor', 'el señor de los anillos', 'avengers']"
      ]
     },
     "execution_count": 26,
     "metadata": {},
     "output_type": "execute_result"
    }
   ],
   "source": [
    "top_pelis = ['star wars', 'harry pottter', 'thor']\n",
    "top_pelis.extend(['el señor de los anillos', 'avengers'])\n",
    "top_pelis"
   ]
  },
  {
   "cell_type": "code",
   "execution_count": 27,
   "metadata": {},
   "outputs": [
    {
     "data": {
      "text/plain": [
       "['el padrino', 'harry pottter', 'thor', 'el señor de los anillos', 'avengers']"
      ]
     },
     "execution_count": 27,
     "metadata": {},
     "output_type": "execute_result"
    }
   ],
   "source": [
    "top_pelis[0] = 'el padrino'\n",
    "top_pelis"
   ]
  },
  {
   "cell_type": "markdown",
   "metadata": {},
   "source": [
    "# Tuplas"
   ]
  },
  {
   "cell_type": "markdown",
   "metadata": {},
   "source": [
    "La tupla es una estructura de datos parecida a las listas. Para definir una tupla es necesario declararla **entre paréntesis**. Al igual que en las listas, los elementos dentro de una tupla se separan con comas, y podemos acceder a ellos a partir de su índice o haciendo slicing.\n",
    "\n"
   ]
  },
  {
   "cell_type": "code",
   "execution_count": 28,
   "metadata": {},
   "outputs": [
    {
     "name": "stdout",
     "output_type": "stream",
     "text": [
      "('manzana', 'anana', 'pera', 'banana', 'mandarina')\n"
     ]
    }
   ],
   "source": [
    "frutas = ('manzana', 'anana', 'pera', 'banana', 'mandarina') # definimos una tupla\n",
    "print(frutas)"
   ]
  },
  {
   "cell_type": "code",
   "execution_count": 29,
   "metadata": {},
   "outputs": [
    {
     "name": "stdout",
     "output_type": "stream",
     "text": [
      "pera\n"
     ]
    }
   ],
   "source": [
    "print(frutas[2]) # accedemos a un elemento mediante su índice"
   ]
  },
  {
   "cell_type": "code",
   "execution_count": 30,
   "metadata": {},
   "outputs": [
    {
     "name": "stdout",
     "output_type": "stream",
     "text": [
      "('manzana', 'anana', 'pera')\n"
     ]
    }
   ],
   "source": [
    "print(frutas[0:3]) # accedemos a varios elementos mediante slicing"
   ]
  },
  {
   "cell_type": "markdown",
   "metadata": {},
   "source": [
    "Hasta aquí, nada nuevo. Pero, entonces, ¿qué distingue a las tuplas de las listas? La principal diferencia es que las tuplas **son inmutables**, es decir, no permiten las transformaciones que las listas sí soportan.\n",
    "\n",
    "En las tuplas no es posible realizar un cambio en sus elementos sin que internamente sean destruídas y vueltas a construir. Por lo cual, generalmente se suelen agrupar datos estáticos en estas estructuras, que sabemos que no vamos a necesitar modificar. Por otra parte, tampoco es posible realizar una operacion de asignación, como vemos a continuación."
   ]
  },
  {
   "cell_type": "code",
   "execution_count": 31,
   "metadata": {},
   "outputs": [
    {
     "data": {
      "text/plain": [
       "('melon', 'sandia')"
      ]
     },
     "execution_count": 31,
     "metadata": {},
     "output_type": "execute_result"
    }
   ],
   "source": [
    "frutas = ('melon', 'sandia')\n",
    "frutas"
   ]
  },
  {
   "cell_type": "code",
   "execution_count": 32,
   "metadata": {},
   "outputs": [
    {
     "ename": "TypeError",
     "evalue": "'tuple' object does not support item assignment",
     "output_type": "error",
     "traceback": [
      "\u001b[1;31m---------------------------------------------------------------------------\u001b[0m",
      "\u001b[1;31mTypeError\u001b[0m                                 Traceback (most recent call last)",
      "\u001b[1;32m<ipython-input-32-e0b716d3a1d0>\u001b[0m in \u001b[0;36m<module>\u001b[1;34m\u001b[0m\n\u001b[1;32m----> 1\u001b[1;33m \u001b[0mfrutas\u001b[0m\u001b[1;33m[\u001b[0m\u001b[1;36m2\u001b[0m\u001b[1;33m]\u001b[0m \u001b[1;33m=\u001b[0m \u001b[1;34m'limón'\u001b[0m \u001b[1;31m# este comando arroja un error\u001b[0m\u001b[1;33m\u001b[0m\u001b[1;33m\u001b[0m\u001b[0m\n\u001b[0m",
      "\u001b[1;31mTypeError\u001b[0m: 'tuple' object does not support item assignment"
     ]
    }
   ],
   "source": [
    "frutas[2] = 'limón' # este comando arroja un error"
   ]
  },
  {
   "cell_type": "code",
   "execution_count": 33,
   "metadata": {},
   "outputs": [
    {
     "data": {
      "text/plain": [
       "tuple"
      ]
     },
     "execution_count": 33,
     "metadata": {},
     "output_type": "execute_result"
    }
   ],
   "source": [
    "type(frutas)"
   ]
  },
  {
   "cell_type": "markdown",
   "metadata": {},
   "source": [
    "# Diccionarios "
   ]
  },
  {
   "cell_type": "markdown",
   "metadata": {},
   "source": [
    "Los diccionarios, al igual que las listas y las tuplas, permiten agrupar elementos dentro de una estructura. Los diccionarios **se definen con llaves ({})**. Dentro de un diccionario, los elementos se expresan como **pares clave:valor**."
   ]
  },
  {
   "cell_type": "code",
   "execution_count": 34,
   "metadata": {},
   "outputs": [
    {
     "name": "stdout",
     "output_type": "stream",
     "text": [
      "{'materia': 'inteligencia artificial', 'clases': 5, 'contenido': ['python', 'machine learning']}\n"
     ]
    }
   ],
   "source": [
    "precurso = {'materia':'inteligencia artificial', 'clases':5, 'contenido':['python', 'machine learning']}\n",
    "print(precurso)"
   ]
  },
  {
   "cell_type": "markdown",
   "metadata": {},
   "source": [
    "Las **claves** pueden ser de tipo *string* o numéricas y no deben estar repetidas, ya que se definió que para cada valor dentro de un diccionario debe existir una clave única.\n",
    "\n",
    "A diferencia de las listas, los elementos dentro de un diccionario no poseen un orden. Esto significa que para acceder a los valores de un diccionario no se usa un índice de posición, sino que se accede por sus claves."
   ]
  },
  {
   "cell_type": "markdown",
   "metadata": {},
   "source": [
    "El método ``items()`` nos devuelve los elementos de un diccionario:\n",
    "\n"
   ]
  },
  {
   "cell_type": "code",
   "execution_count": 35,
   "metadata": {},
   "outputs": [
    {
     "data": {
      "text/plain": [
       "dict_items([('materia', 'inteligencia artificial'), ('clases', 5), ('contenido', ['python', 'machine learning'])])"
      ]
     },
     "execution_count": 35,
     "metadata": {},
     "output_type": "execute_result"
    }
   ],
   "source": [
    "precurso.items()"
   ]
  },
  {
   "cell_type": "markdown",
   "metadata": {},
   "source": [
    "Con el método ``keys()`` podemos conocer las distintas claves de un diccionario:"
   ]
  },
  {
   "cell_type": "code",
   "execution_count": 36,
   "metadata": {},
   "outputs": [
    {
     "data": {
      "text/plain": [
       "dict_keys(['materia', 'clases', 'contenido'])"
      ]
     },
     "execution_count": 36,
     "metadata": {},
     "output_type": "execute_result"
    }
   ],
   "source": [
    "precurso.keys()"
   ]
  },
  {
   "cell_type": "markdown",
   "metadata": {},
   "source": [
    "Con ``values()`` accedemos los a los valores propios de los elementos de un diccionario:\n",
    "\n"
   ]
  },
  {
   "cell_type": "code",
   "execution_count": 37,
   "metadata": {},
   "outputs": [
    {
     "data": {
      "text/plain": [
       "dict_values(['inteligencia artificial', 5, ['python', 'machine learning']])"
      ]
     },
     "execution_count": 37,
     "metadata": {},
     "output_type": "execute_result"
    }
   ],
   "source": [
    "precurso.values()"
   ]
  },
  {
   "cell_type": "markdown",
   "metadata": {},
   "source": [
    "A diferencia de las tuplas y al igual que las listas, los diccionarios son objetos mutables, es decir, pueden ser modificados. El método ``update()`` nos permite actualizar un diciconario, cambiando valores preexistente o incorporando elementos nuevos."
   ]
  },
  {
   "cell_type": "code",
   "execution_count": 38,
   "metadata": {},
   "outputs": [
    {
     "name": "stdout",
     "output_type": "stream",
     "text": [
      "{'materia': 'inteligencia artificial', 'clases': 5, 'contenido': 'IA'}\n"
     ]
    }
   ],
   "source": [
    "precurso.update({'contenido':'IA'}) # modificamos un valor preexistente\n",
    "print(precurso)"
   ]
  },
  {
   "cell_type": "code",
   "execution_count": 39,
   "metadata": {},
   "outputs": [
    {
     "name": "stdout",
     "output_type": "stream",
     "text": [
      "{'materia': 'inteligencia artificial', 'clases': 5, 'contenido': 'IA', 'sede': 'lima'}\n"
     ]
    }
   ],
   "source": [
    "precurso.update({'sede':'lima'})\n",
    "print(precurso)"
   ]
  },
  {
   "cell_type": "markdown",
   "metadata": {},
   "source": [
    "## Ejercicio 4"
   ]
  },
  {
   "cell_type": "markdown",
   "metadata": {},
   "source": [
    "Defina un diccionario que contenga sus datos personales (nombre, apellido y mail) e imprímalo. Luego, actualice el diccionario incorporando su lugar de residencia.\n",
    "\n"
   ]
  },
  {
   "cell_type": "code",
   "execution_count": 40,
   "metadata": {},
   "outputs": [
    {
     "name": "stdout",
     "output_type": "stream",
     "text": [
      "{'nombre': 'A', 'apellido': 'B', 'email': 'a@b.com'}\n"
     ]
    },
    {
     "data": {
      "text/plain": [
       "{'nombre': 'A', 'apellido': 'B', 'email': 'a@b.com'}"
      ]
     },
     "execution_count": 40,
     "metadata": {},
     "output_type": "execute_result"
    }
   ],
   "source": [
    "datos = {'nombre':'A', 'apellido':'B', 'email':'a@b.com'}\n",
    "print(datos)\n",
    "datos"
   ]
  },
  {
   "cell_type": "markdown",
   "metadata": {},
   "source": [
    "# Condicionales\n",
    "\n",
    "En ocasiones, necesitamos evaluar ciertas condiciones que determinan si nuestros programas ejecutarán o no determinadas instrucciones. Para ello, existen las sentencias **if, if-else e if-elif-else**. Antes de abordarlas, debemos comprender cómo podemos saber si una condición se cumple o no, y para ello necesitamos presentar los **booleanos.**"
   ]
  },
  {
   "cell_type": "markdown",
   "metadata": {},
   "source": [
    "Un booleano es un tipo de dato que permite representar dos valores lógicos, estos son:\n",
    "\n",
    "True: representa el valor de que algo es verdadero.\n",
    "\n",
    "False: representa el valor de que algo es falso."
   ]
  },
  {
   "cell_type": "code",
   "execution_count": 41,
   "metadata": {},
   "outputs": [
    {
     "name": "stdout",
     "output_type": "stream",
     "text": [
      "False\n"
     ]
    }
   ],
   "source": [
    "print(10 < 5) # True"
   ]
  },
  {
   "cell_type": "code",
   "execution_count": 42,
   "metadata": {},
   "outputs": [
    {
     "name": "stdout",
     "output_type": "stream",
     "text": [
      "False\n"
     ]
    }
   ],
   "source": [
    "print(4 in [1, 2, 3]) # False"
   ]
  },
  {
   "cell_type": "markdown",
   "metadata": {},
   "source": [
    "# Sentencias ``if``"
   ]
  },
  {
   "cell_type": "markdown",
   "metadata": {},
   "source": [
    "El ``if`` nos permite ejecutar un código sujeto a una condición. La estructura de una sentencia if se divide en tres partes:\n",
    "\n",
    "1. La palabra reservada if.\n",
    "2. La condición que queremos evaluar, seguida de dos puntos.\n",
    "3. El bloque de código que se ejecuta en el caso que la condición evaluada se cumpla (es decir, sea True), en la siguiente línea y luego de una indentación (comúnmente, cuatro espacios en blanco).\n",
    "\n",
    "Veamos un ejemplo:"
   ]
  },
  {
   "cell_type": "code",
   "execution_count": 43,
   "metadata": {},
   "outputs": [
    {
     "name": "stdout",
     "output_type": "stream",
     "text": [
      "El número 43 es positivo\n"
     ]
    }
   ],
   "source": [
    "numero = 43\n",
    "\n",
    "if numero > 0:\n",
    "  print('El número', numero, 'es positivo')"
   ]
  },
  {
   "cell_type": "markdown",
   "metadata": {},
   "source": [
    "Como la condición evaluada es verdadera, se ejecuta la instrucción print(). ¿Qué ocurre si la condición evaluada es falsa?"
   ]
  },
  {
   "cell_type": "code",
   "execution_count": 1,
   "metadata": {},
   "outputs": [],
   "source": [
    "numero = -5\n",
    "\n",
    "if numero > 0:\n",
    "    print('El número', numero, 'es positivo')"
   ]
  },
  {
   "cell_type": "markdown",
   "metadata": {},
   "source": [
    "# Sentencias ``if - else``:\n",
    "Si queremos hacer algo en caso de que la condición evaluada sea falsa, podemos utilizar la sentencia else, la contraparte del if."
   ]
  },
  {
   "cell_type": "code",
   "execution_count": 2,
   "metadata": {},
   "outputs": [
    {
     "name": "stdout",
     "output_type": "stream",
     "text": [
      "El número -5 es negativo\n"
     ]
    }
   ],
   "source": [
    "numero = -5\n",
    "\n",
    "if numero > 0:\n",
    "  print('El número', numero, 'es positivo')\n",
    "\n",
    "else:\n",
    "  print('El número', numero, 'es negativo')"
   ]
  },
  {
   "cell_type": "markdown",
   "metadata": {},
   "source": [
    "# Sentencias ``if - elif - else``:\n",
    "Si queremos encadenar varias condiciones, podemos incluir la sentencia ``elif`` (contracción de ``else`` e ``if``)."
   ]
  },
  {
   "cell_type": "code",
   "execution_count": 3,
   "metadata": {},
   "outputs": [
    {
     "name": "stdout",
     "output_type": "stream",
     "text": [
      "El número 0 es negativo\n"
     ]
    }
   ],
   "source": [
    "numero = 0\n",
    "\n",
    "if numero > 0:\n",
    "  print('El número', numero, 'es positivo')\n",
    "\n",
    "elif numero == 0:\n",
    "  print('El número', numero, 'es negativo')\n",
    "\n",
    "else:\n",
    "  print('El número es 0')"
   ]
  },
  {
   "cell_type": "markdown",
   "metadata": {},
   "source": [
    "# ``for`` loops"
   ]
  },
  {
   "cell_type": "markdown",
   "metadata": {},
   "source": [
    "![](https://www.tutorialspoint.com/r/images/r_next_statement.jpg) "
   ]
  },
  {
   "cell_type": "markdown",
   "metadata": {},
   "source": [
    "Un ``for`` loop es **un bucle que repite un bloque de instrucciones un número prederminado de veces**. El bloque de instrucciones que se repite se suele llamar **cuerpo del bucle** y cada repetición se suele llamar **iteración**. En Python se define de esta manera:"
   ]
  },
  {
   "cell_type": "markdown",
   "metadata": {},
   "source": [
    "``for variable in elemento_iterable :\n",
    "    cuerpo bucle``\n",
    "    \n",
    "Veamos un ejemplo a continuación:"
   ]
  },
  {
   "cell_type": "code",
   "execution_count": 5,
   "metadata": {},
   "outputs": [
    {
     "name": "stdout",
     "output_type": "stream",
     "text": [
      "1\n",
      "1\n",
      "2\n",
      "2\n",
      "3\n",
      "3\n",
      "4\n",
      "4\n",
      "5\n",
      "5\n"
     ]
    }
   ],
   "source": [
    "mi_lista = [1, 2, 3, 4, 5]\n",
    "\n",
    "for i in mi_lista:\n",
    "  print(i)\n",
    "  print(i)"
   ]
  },
  {
   "cell_type": "markdown",
   "metadata": {},
   "source": [
    "Dentro del cuerpo de los bucles, podemos incluir estructuras condicionales:"
   ]
  },
  {
   "cell_type": "code",
   "execution_count": 6,
   "metadata": {},
   "outputs": [
    {
     "name": "stdout",
     "output_type": "stream",
     "text": [
      "1 no es par.\n",
      "3 no es par.\n",
      "5 no es par.\n",
      "7 no es par.\n",
      "9 no es par.\n",
      "Los números pares son [2, 4, 6, 8, 10]\n"
     ]
    }
   ],
   "source": [
    "# definimos una lista vacia y una lista con números\n",
    "lista_pares = []\n",
    "lista_numeros = [1, 2, 3, 4, 5, 6, 7, 8, 9, 10]\n",
    "\n",
    "# recorremos los números de la lista\n",
    "for numero in lista_numeros:\n",
    "  \n",
    "    # evaluamos si el número de la lista es par (nota: el operador % - módulo - evalúa el resto de una divisón)\n",
    "    if numero % 2 == 0:\n",
    " \n",
    "    # insertamos al final de la lista vacía si es par\n",
    "      lista_pares.append(numero)\n",
    "    \n",
    "    else:\n",
    "      print(numero, 'no es par.')\n",
    "\n",
    "print(\"Los números pares son\",lista_pares)"
   ]
  },
  {
   "cell_type": "markdown",
   "metadata": {},
   "source": [
    "# ``while `` loops"
   ]
  },
  {
   "cell_type": "markdown",
   "metadata": {},
   "source": [
    "Un tipo de iteración alternativa son los ``while`` loops, que repiten una ejecución siempre que una determinada expresión sea cierta. Lo ilustramos con un ejemplo sencillo:"
   ]
  },
  {
   "cell_type": "markdown",
   "metadata": {},
   "source": [
    "# Funciones\n",
    "Una **función** es una estructura genérica que contiene las instrucciones necesarias para obtener un resultado deseado. La sintaxis de las funciones en Python tiene esta forma:"
   ]
  },
  {
   "cell_type": "markdown",
   "metadata": {},
   "source": [
    "Una **función** es una estructura genérica que contiene las instrucciones necesarias para obtener un resultado deseado. La sintaxis de las funciones en Python tiene esta forma:\n",
    "\n",
    "``def nombre(argumento1, argumento2, ...):\n",
    "  cuerpo función\n",
    "  return expresión``\n",
    "  \n",
    "  \n",
    "A continuación, definimos una función que nos permite calcular el doble de un número cualquiera:"
   ]
  },
  {
   "cell_type": "markdown",
   "metadata": {},
   "source": [
    "![](data:image/jpeg;base64,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)"
   ]
  },
  {
   "cell_type": "code",
   "execution_count": 7,
   "metadata": {},
   "outputs": [],
   "source": [
    "# definimos nuestra función\n",
    "\n",
    "def duplicar(numero):\n",
    "  doble = numero * 2\n",
    "\n",
    "  return doble\n",
    "\n",
    "\n",
    "\n",
    "#alternative method\n",
    "def doble(num): return num*2"
   ]
  },
  {
   "cell_type": "code",
   "execution_count": 8,
   "metadata": {},
   "outputs": [
    {
     "name": "stdout",
     "output_type": "stream",
     "text": [
      "4\n",
      "12\n"
     ]
    }
   ],
   "source": [
    "# ejecutamos la función\n",
    "\n",
    "print(duplicar(2))\n",
    "print(doble(6))"
   ]
  },
  {
   "cell_type": "markdown",
   "metadata": {},
   "source": [
    "## Ejercicio 5\n",
    "Definir una función que recibe dos números y devuelve su suma.\n",
    "\n"
   ]
  },
  {
   "cell_type": "code",
   "execution_count": 9,
   "metadata": {},
   "outputs": [],
   "source": [
    "def suma(a, b):\n",
    "  return a + b"
   ]
  },
  {
   "cell_type": "code",
   "execution_count": 10,
   "metadata": {},
   "outputs": [
    {
     "data": {
      "text/plain": [
       "6"
      ]
     },
     "execution_count": 10,
     "metadata": {},
     "output_type": "execute_result"
    }
   ],
   "source": [
    "suma(3,3)"
   ]
  },
  {
   "cell_type": "code",
   "execution_count": null,
   "metadata": {},
   "outputs": [],
   "source": []
  }
 ],
 "metadata": {
  "kernelspec": {
   "display_name": "Python 3",
   "language": "python",
   "name": "python3"
  },
  "language_info": {
   "codemirror_mode": {
    "name": "ipython",
    "version": 3
   },
   "file_extension": ".py",
   "mimetype": "text/x-python",
   "name": "python",
   "nbconvert_exporter": "python",
   "pygments_lexer": "ipython3",
   "version": "3.7.5"
  }
 },
 "nbformat": 4,
 "nbformat_minor": 2
}
